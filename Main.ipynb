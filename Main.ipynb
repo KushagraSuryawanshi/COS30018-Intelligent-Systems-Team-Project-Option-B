{
  "nbformat": 4,
  "nbformat_minor": 0,
  "metadata": {
    "colab": {
      "provenance": [],
      "authorship_tag": "ABX9TyND+O/0io1JnDfSmu9YWVq/",
      "include_colab_link": true
    },
    "kernelspec": {
      "name": "python3",
      "display_name": "Python 3"
    },
    "language_info": {
      "name": "python"
    }
  },
  "cells": [
    {
      "cell_type": "markdown",
      "metadata": {
        "id": "view-in-github",
        "colab_type": "text"
      },
      "source": [
        "<a href=\"https://colab.research.google.com/github/Schnitze1/COS30018-Intelligent-Systems-Team-Project/blob/main/Main.ipynb\" target=\"_parent\"><img src=\"https://colab.research.google.com/assets/colab-badge.svg\" alt=\"Open In Colab\"/></a>"
      ]
    },
    {
      "cell_type": "code",
      "execution_count": null,
      "metadata": {
        "id": "sUrEIYcu-jDe"
      },
      "outputs": [],
      "source": [
        "Tesst\n",
        "\n",
        "Test 2"
      ]
    }
  ]
}